{
 "cells": [
  {
   "cell_type": "markdown",
   "metadata": {},
   "source": [
    "# Building a Multi-layer Neural Network"
   ]
  },
  {
   "cell_type": "markdown",
   "metadata": {},
   "source": [
    "We  use NeuroLab to build a multi-layer neural network.\n",
    "Out task is to predict a mathematical function y = 3x^2 + 5\n",
    "The training data is generated using this function."
   ]
  },
  {
   "cell_type": "code",
   "execution_count": 1,
   "metadata": {},
   "outputs": [],
   "source": [
    "import numpy as np\n",
    "import matplotlib.pyplot as plt\n",
    "import neurolab as nl\n",
    "\n",
    "# Generate the training data\n",
    "min_val = -15\n",
    "max_val = 15\n",
    "num_points = 150\n",
    "x = np.linspace(min_val, max_val, num_points)\n",
    "y = 3 * np.square(x) + 5\n",
    "y /= np.linalg.norm(y)\n",
    "\n"
   ]
  },
  {
   "cell_type": "code",
   "execution_count": 2,
   "metadata": {},
   "outputs": [
    {
     "data": {
      "text/plain": [
       "array([[0.17930093],\n",
       "       [0.17455495],\n",
       "       [0.16987309],\n",
       "       [0.16525538],\n",
       "       [0.16070179],\n",
       "       [0.15621235],\n",
       "       [0.15178703],\n",
       "       [0.14742586],\n",
       "       [0.14312881],\n",
       "       [0.13889591],\n",
       "       [0.13472713],\n",
       "       [0.1306225 ],\n",
       "       [0.12658199],\n",
       "       [0.12260563],\n",
       "       [0.11869339],\n",
       "       [0.11484529],\n",
       "       [0.11106133],\n",
       "       [0.1073415 ],\n",
       "       [0.10368581],\n",
       "       [0.10009425],\n",
       "       [0.09656683],\n",
       "       [0.09310354],\n",
       "       [0.08970439],\n",
       "       [0.08636937],\n",
       "       [0.08309849],\n",
       "       [0.07989174],\n",
       "       [0.07674913],\n",
       "       [0.07367065],\n",
       "       [0.0706563 ],\n",
       "       [0.06770609],\n",
       "       [0.06482002],\n",
       "       [0.06199808],\n",
       "       [0.05924028],\n",
       "       [0.05654661],\n",
       "       [0.05391708],\n",
       "       [0.05135168],\n",
       "       [0.04885042],\n",
       "       [0.04641329],\n",
       "       [0.04404029],\n",
       "       [0.04173143],\n",
       "       [0.03948671],\n",
       "       [0.03730612],\n",
       "       [0.03518967],\n",
       "       [0.03313735],\n",
       "       [0.03114916],\n",
       "       [0.02922512],\n",
       "       [0.0273652 ],\n",
       "       [0.02556942],\n",
       "       [0.02383778],\n",
       "       [0.02217027],\n",
       "       [0.0205669 ],\n",
       "       [0.01902766],\n",
       "       [0.01755255],\n",
       "       [0.01614158],\n",
       "       [0.01479475],\n",
       "       [0.01351205],\n",
       "       [0.01229349],\n",
       "       [0.01113906],\n",
       "       [0.01004876],\n",
       "       [0.0090226 ],\n",
       "       [0.00806058],\n",
       "       [0.00716269],\n",
       "       [0.00632893],\n",
       "       [0.00555931],\n",
       "       [0.00485383],\n",
       "       [0.00421248],\n",
       "       [0.00363526],\n",
       "       [0.00312219],\n",
       "       [0.00267324],\n",
       "       [0.00228843],\n",
       "       [0.00196776],\n",
       "       [0.00171122],\n",
       "       [0.00151881],\n",
       "       [0.00139054],\n",
       "       [0.00132641],\n",
       "       [0.00132641],\n",
       "       [0.00139054],\n",
       "       [0.00151881],\n",
       "       [0.00171122],\n",
       "       [0.00196776],\n",
       "       [0.00228843],\n",
       "       [0.00267324],\n",
       "       [0.00312219],\n",
       "       [0.00363526],\n",
       "       [0.00421248],\n",
       "       [0.00485383],\n",
       "       [0.00555931],\n",
       "       [0.00632893],\n",
       "       [0.00716269],\n",
       "       [0.00806058],\n",
       "       [0.0090226 ],\n",
       "       [0.01004876],\n",
       "       [0.01113906],\n",
       "       [0.01229349],\n",
       "       [0.01351205],\n",
       "       [0.01479475],\n",
       "       [0.01614158],\n",
       "       [0.01755255],\n",
       "       [0.01902766],\n",
       "       [0.0205669 ],\n",
       "       [0.02217027],\n",
       "       [0.02383778],\n",
       "       [0.02556942],\n",
       "       [0.0273652 ],\n",
       "       [0.02922512],\n",
       "       [0.03114916],\n",
       "       [0.03313735],\n",
       "       [0.03518967],\n",
       "       [0.03730612],\n",
       "       [0.03948671],\n",
       "       [0.04173143],\n",
       "       [0.04404029],\n",
       "       [0.04641329],\n",
       "       [0.04885042],\n",
       "       [0.05135168],\n",
       "       [0.05391708],\n",
       "       [0.05654661],\n",
       "       [0.05924028],\n",
       "       [0.06199808],\n",
       "       [0.06482002],\n",
       "       [0.06770609],\n",
       "       [0.0706563 ],\n",
       "       [0.07367065],\n",
       "       [0.07674913],\n",
       "       [0.07989174],\n",
       "       [0.08309849],\n",
       "       [0.08636937],\n",
       "       [0.08970439],\n",
       "       [0.09310354],\n",
       "       [0.09656683],\n",
       "       [0.10009425],\n",
       "       [0.10368581],\n",
       "       [0.1073415 ],\n",
       "       [0.11106133],\n",
       "       [0.11484529],\n",
       "       [0.11869339],\n",
       "       [0.12260563],\n",
       "       [0.12658199],\n",
       "       [0.1306225 ],\n",
       "       [0.13472713],\n",
       "       [0.13889591],\n",
       "       [0.14312881],\n",
       "       [0.14742586],\n",
       "       [0.15178703],\n",
       "       [0.15621235],\n",
       "       [0.16070179],\n",
       "       [0.16525538],\n",
       "       [0.16987309],\n",
       "       [0.17455495],\n",
       "       [0.17930093]])"
      ]
     },
     "execution_count": 2,
     "metadata": {},
     "output_type": "execute_result"
    }
   ],
   "source": [
    "# Create data and labels\n",
    "data = x.reshape(num_points, 1)\n",
    "labels = y.reshape(num_points, 1)\n",
    "labels"
   ]
  },
  {
   "cell_type": "code",
   "execution_count": 3,
   "metadata": {},
   "outputs": [
    {
     "data": {
      "text/plain": [
       "(150, 1)"
      ]
     },
     "execution_count": 3,
     "metadata": {},
     "output_type": "execute_result"
    }
   ],
   "source": [
    "data.shape"
   ]
  },
  {
   "cell_type": "code",
   "execution_count": 4,
   "metadata": {},
   "outputs": [
    {
     "data": {
      "text/plain": [
       "array([[-15.        ],\n",
       "       [-14.79865772],\n",
       "       [-14.59731544],\n",
       "       [-14.39597315],\n",
       "       [-14.19463087],\n",
       "       [-13.99328859],\n",
       "       [-13.79194631],\n",
       "       [-13.59060403],\n",
       "       [-13.38926174],\n",
       "       [-13.18791946],\n",
       "       [-12.98657718],\n",
       "       [-12.7852349 ],\n",
       "       [-12.58389262],\n",
       "       [-12.38255034],\n",
       "       [-12.18120805],\n",
       "       [-11.97986577],\n",
       "       [-11.77852349],\n",
       "       [-11.57718121],\n",
       "       [-11.37583893],\n",
       "       [-11.17449664],\n",
       "       [-10.97315436],\n",
       "       [-10.77181208],\n",
       "       [-10.5704698 ],\n",
       "       [-10.36912752],\n",
       "       [-10.16778523],\n",
       "       [ -9.96644295],\n",
       "       [ -9.76510067],\n",
       "       [ -9.56375839],\n",
       "       [ -9.36241611],\n",
       "       [ -9.16107383],\n",
       "       [ -8.95973154],\n",
       "       [ -8.75838926],\n",
       "       [ -8.55704698],\n",
       "       [ -8.3557047 ],\n",
       "       [ -8.15436242],\n",
       "       [ -7.95302013],\n",
       "       [ -7.75167785],\n",
       "       [ -7.55033557],\n",
       "       [ -7.34899329],\n",
       "       [ -7.14765101],\n",
       "       [ -6.94630872],\n",
       "       [ -6.74496644],\n",
       "       [ -6.54362416],\n",
       "       [ -6.34228188],\n",
       "       [ -6.1409396 ],\n",
       "       [ -5.93959732],\n",
       "       [ -5.73825503],\n",
       "       [ -5.53691275],\n",
       "       [ -5.33557047],\n",
       "       [ -5.13422819],\n",
       "       [ -4.93288591],\n",
       "       [ -4.73154362],\n",
       "       [ -4.53020134],\n",
       "       [ -4.32885906],\n",
       "       [ -4.12751678],\n",
       "       [ -3.9261745 ],\n",
       "       [ -3.72483221],\n",
       "       [ -3.52348993],\n",
       "       [ -3.32214765],\n",
       "       [ -3.12080537],\n",
       "       [ -2.91946309],\n",
       "       [ -2.71812081],\n",
       "       [ -2.51677852],\n",
       "       [ -2.31543624],\n",
       "       [ -2.11409396],\n",
       "       [ -1.91275168],\n",
       "       [ -1.7114094 ],\n",
       "       [ -1.51006711],\n",
       "       [ -1.30872483],\n",
       "       [ -1.10738255],\n",
       "       [ -0.90604027],\n",
       "       [ -0.70469799],\n",
       "       [ -0.5033557 ],\n",
       "       [ -0.30201342],\n",
       "       [ -0.10067114],\n",
       "       [  0.10067114],\n",
       "       [  0.30201342],\n",
       "       [  0.5033557 ],\n",
       "       [  0.70469799],\n",
       "       [  0.90604027],\n",
       "       [  1.10738255],\n",
       "       [  1.30872483],\n",
       "       [  1.51006711],\n",
       "       [  1.7114094 ],\n",
       "       [  1.91275168],\n",
       "       [  2.11409396],\n",
       "       [  2.31543624],\n",
       "       [  2.51677852],\n",
       "       [  2.71812081],\n",
       "       [  2.91946309],\n",
       "       [  3.12080537],\n",
       "       [  3.32214765],\n",
       "       [  3.52348993],\n",
       "       [  3.72483221],\n",
       "       [  3.9261745 ],\n",
       "       [  4.12751678],\n",
       "       [  4.32885906],\n",
       "       [  4.53020134],\n",
       "       [  4.73154362],\n",
       "       [  4.93288591],\n",
       "       [  5.13422819],\n",
       "       [  5.33557047],\n",
       "       [  5.53691275],\n",
       "       [  5.73825503],\n",
       "       [  5.93959732],\n",
       "       [  6.1409396 ],\n",
       "       [  6.34228188],\n",
       "       [  6.54362416],\n",
       "       [  6.74496644],\n",
       "       [  6.94630872],\n",
       "       [  7.14765101],\n",
       "       [  7.34899329],\n",
       "       [  7.55033557],\n",
       "       [  7.75167785],\n",
       "       [  7.95302013],\n",
       "       [  8.15436242],\n",
       "       [  8.3557047 ],\n",
       "       [  8.55704698],\n",
       "       [  8.75838926],\n",
       "       [  8.95973154],\n",
       "       [  9.16107383],\n",
       "       [  9.36241611],\n",
       "       [  9.56375839],\n",
       "       [  9.76510067],\n",
       "       [  9.96644295],\n",
       "       [ 10.16778523],\n",
       "       [ 10.36912752],\n",
       "       [ 10.5704698 ],\n",
       "       [ 10.77181208],\n",
       "       [ 10.97315436],\n",
       "       [ 11.17449664],\n",
       "       [ 11.37583893],\n",
       "       [ 11.57718121],\n",
       "       [ 11.77852349],\n",
       "       [ 11.97986577],\n",
       "       [ 12.18120805],\n",
       "       [ 12.38255034],\n",
       "       [ 12.58389262],\n",
       "       [ 12.7852349 ],\n",
       "       [ 12.98657718],\n",
       "       [ 13.18791946],\n",
       "       [ 13.38926174],\n",
       "       [ 13.59060403],\n",
       "       [ 13.79194631],\n",
       "       [ 13.99328859],\n",
       "       [ 14.19463087],\n",
       "       [ 14.39597315],\n",
       "       [ 14.59731544],\n",
       "       [ 14.79865772],\n",
       "       [ 15.        ]])"
      ]
     },
     "execution_count": 4,
     "metadata": {},
     "output_type": "execute_result"
    }
   ],
   "source": [
    "data"
   ]
  },
  {
   "cell_type": "code",
   "execution_count": 5,
   "metadata": {
    "scrolled": true
   },
   "outputs": [
    {
     "data": {
      "text/plain": [
       "Text(0.5, 1.0, 'Input data')"
      ]
     },
     "execution_count": 5,
     "metadata": {},
     "output_type": "execute_result"
    },
    {
     "data": {
      "image/png": "[encoded data removed]",
      "text/plain": [
       "<Figure size 640x480 with 1 Axes>"
      ]
     },
     "metadata": {},
     "output_type": "display_data"
    }
   ],
   "source": [
    "# Plot input data\n",
    "plt.figure()\n",
    "plt.scatter(data, labels)\n",
    "plt.xlabel('Dimension 1')\n",
    "plt.ylabel('Dimension 2')\n",
    "plt.title('Input data')"
   ]
  },
  {
   "cell_type": "code",
   "execution_count": 6,
   "metadata": {},
   "outputs": [
    {
     "name": "stdout",
     "output_type": "stream",
     "text": [
      "Epoch: 100; Error: 0.43363557950431963;\n",
      "Epoch: 200; Error: 0.04538389325334605;\n",
      "Epoch: 300; Error: 0.19918410767792555;\n",
      "Epoch: 400; Error: 0.09495084574112972;\n",
      "Epoch: 500; Error: 0.12034125860820298;\n",
      "Epoch: 600; Error: 0.0959089077040439;\n",
      "Epoch: 700; Error: 0.09704636762468122;\n",
      "Epoch: 800; Error: 0.085063237748916;\n",
      "Epoch: 900; Error: 0.08224927273568461;\n",
      "Epoch: 1000; Error: 0.15962921658223184;\n",
      "Epoch: 1100; Error: 0.129936331572796;\n",
      "Epoch: 1200; Error: 0.025423293607710826;\n",
      "Epoch: 1300; Error: 0.030329626978856446;\n",
      "Epoch: 1400; Error: 0.027268047038859676;\n",
      "Epoch: 1500; Error: 0.020544656587352435;\n",
      "Epoch: 1600; Error: 0.014349037961353079;\n",
      "Epoch: 1700; Error: 0.01640585748334095;\n",
      "Epoch: 1800; Error: 0.012349994733853134;\n",
      "Epoch: 1900; Error: 0.023337830978625903;\n",
      "Epoch: 2000; Error: 0.01995610230064431;\n",
      "The maximum number of train epochs is reached\n"
     ]
    },
    {
     "data": {
      "text/plain": [
       "Text(0.5, 1.0, 'Training error progress')"
      ]
     },
     "execution_count": 6,
     "metadata": {},
     "output_type": "execute_result"
    },
    {
     "data": {
      "image/png": "[encoded data removed]",
      "text/plain": [
       "<Figure size 640x480 with 1 Axes>"
      ]
     },
     "metadata": {},
     "output_type": "display_data"
    }
   ],
   "source": [
    "# Define a multilayer neural network with 2 hidden layers;\n",
    "# First hidden layer consists of 10 neurons\n",
    "# Second hidden layer consists of 6 neurons\n",
    "# Output layer consists of 1 neuron\n",
    "nn = nl.net.newff([[min_val, max_val]], [10, 6, 1])\n",
    "\n",
    "# Set the training algorithm to gradient descent\n",
    "nn.trainf = nl.train.train_gd\n",
    "\n",
    "# Train the neural network\n",
    "error_progress = nn.train(data, labels, epochs=2000, show=100, goal=0.01)\n",
    "\n",
    "# Run the neural network on training datapoints\n",
    "output = nn.sim(data)\n",
    "y_pred = output.reshape(num_points)\n",
    "\n",
    "# Plot training error\n",
    "plt.figure()\n",
    "plt.plot(error_progress)\n",
    "plt.xlabel('Number of epochs')\n",
    "plt.ylabel('Error')\n",
    "plt.title('Training error progress')\n"
   ]
  },
  {
   "cell_type": "code",
   "execution_count": 7,
   "metadata": {},
   "outputs": [
    {
     "data": {
      "image/png": "[encoded data removed]",
      "text/plain": [
       "<Figure size 640x480 with 1 Axes>"
      ]
     },
     "metadata": {},
     "output_type": "display_data"
    }
   ],
   "source": [
    "# Plot the output \n",
    "x_dense = np.linspace(min_val, max_val, num_points * 2)\n",
    "y_dense_pred = nn.sim(x_dense.reshape(x_dense.size,1)).reshape(x_dense.size)\n",
    "\n",
    "plt.figure()\n",
    "plt.plot(x_dense, y_dense_pred, '-', x, y, '.', x, y_pred, 'p')\n",
    "plt.xlabel('Dimension 1')\n",
    "plt.ylabel('Dimension 2')\n",
    "plt.title('Actual vs predicted')\n",
    "\n",
    "plt.show()"
   ]
  },
  {
   "cell_type": "markdown",
   "metadata": {},
   "source": [
    "The predicted output appears close to the actual value. \n",
    "If we continue to train the network and reduce the error, better prediction may be possible."
   ]
  }
 ],
 "metadata": {
  "kernelspec": {
   "display_name": "Python 3 (ipykernel)",
   "language": "python",
   "name": "python3"
  },
  "language_info": {
   "codemirror_mode": {
    "name": "ipython",
    "version": 3
   },
   "file_extension": ".py",
   "mimetype": "text/x-python",
   "name": "python",
   "nbconvert_exporter": "python",
   "pygments_lexer": "ipython3",
   "version": "3.9.13"
  }
 },
 "nbformat": 4,
 "nbformat_minor": 4
}
