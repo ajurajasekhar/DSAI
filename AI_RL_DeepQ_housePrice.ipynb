{
 "cells": [
  {
   "cell_type": "markdown",
   "metadata": {},
   "source": [
    "# Predicting house prices using Deep Q-Learning"
   ]
  },
  {
   "cell_type": "code",
   "execution_count": 1,
   "metadata": {},
   "outputs": [],
   "source": [
    "\n",
    "#pip install tensorflow\n",
    "#pip install keras\n",
    "\n",
    "# Importing the libraries\n",
    "import warnings\n",
    "warnings.filterwarnings('ignore')\n",
    "import tensorflow as tf\n",
    "import pandas as pd\n",
    "import numpy as np\n",
    "import tensorflow.keras\n",
    "from sklearn.model_selection import train_test_split\n",
    "from sklearn.preprocessing import MinMaxScaler\n",
    "from tensorflow.keras.layers import Dense, Dropout\n",
    "from tensorflow.keras.models import Sequential\n",
    "from tensorflow.keras.optimizers import Adam"
   ]
  },
  {
   "cell_type": "code",
   "execution_count": 2,
   "metadata": {},
   "outputs": [],
   "source": [
    "# Importing the dataset\n",
    "dataset = pd.read_csv('kc_house_data.csv')"
   ]
  },
  {
   "cell_type": "code",
   "execution_count": 3,
   "metadata": {},
   "outputs": [
    {
     "data": {
      "text/plain": [
       "(21613, 21)"
      ]
     },
     "execution_count": 3,
     "metadata": {},
     "output_type": "execute_result"
    }
   ],
   "source": [
    "dataset.shape"
   ]
  },
  {
   "cell_type": "code",
   "execution_count": 4,
   "metadata": {},
   "outputs": [
    {
     "data": {
      "text/html": [
       "<div>\n",
       "<style scoped>\n",
       "    .dataframe tbody tr th:only-of-type {\n",
       "        vertical-align: middle;\n",
       "    }\n",
       "\n",
       "    .dataframe tbody tr th {\n",
       "        vertical-align: top;\n",
       "    }\n",
       "\n",
       "    .dataframe thead th {\n",
       "        text-align: right;\n",
       "    }\n",
       "</style>\n",
       "<table border=\"1\" class=\"dataframe\">\n",
       "  <thead>\n",
       "    <tr style=\"text-align: right;\">\n",
       "      <th></th>\n",
       "      <th>id</th>\n",
       "      <th>date</th>\n",
       "      <th>price</th>\n",
       "      <th>bedrooms</th>\n",
       "      <th>bathrooms</th>\n",
       "      <th>sqft_living</th>\n",
       "      <th>sqft_lot</th>\n",
       "      <th>floors</th>\n",
       "      <th>waterfront</th>\n",
       "      <th>view</th>\n",
       "      <th>...</th>\n",
       "      <th>grade</th>\n",
       "      <th>sqft_above</th>\n",
       "      <th>sqft_basement</th>\n",
       "      <th>yr_built</th>\n",
       "      <th>yr_renovated</th>\n",
       "      <th>zipcode</th>\n",
       "      <th>lat</th>\n",
       "      <th>long</th>\n",
       "      <th>sqft_living15</th>\n",
       "      <th>sqft_lot15</th>\n",
       "    </tr>\n",
       "  </thead>\n",
       "  <tbody>\n",
       "    <tr>\n",
       "      <th>0</th>\n",
       "      <td>7129300520</td>\n",
       "      <td>20141013T000000</td>\n",
       "      <td>221900.0</td>\n",
       "      <td>3</td>\n",
       "      <td>1.00</td>\n",
       "      <td>1180</td>\n",
       "      <td>5650</td>\n",
       "      <td>1.0</td>\n",
       "      <td>0</td>\n",
       "      <td>0</td>\n",
       "      <td>...</td>\n",
       "      <td>7</td>\n",
       "      <td>1180</td>\n",
       "      <td>0</td>\n",
       "      <td>1955</td>\n",
       "      <td>0</td>\n",
       "      <td>98178</td>\n",
       "      <td>47.5112</td>\n",
       "      <td>-122.257</td>\n",
       "      <td>1340</td>\n",
       "      <td>5650</td>\n",
       "    </tr>\n",
       "    <tr>\n",
       "      <th>1</th>\n",
       "      <td>6414100192</td>\n",
       "      <td>20141209T000000</td>\n",
       "      <td>538000.0</td>\n",
       "      <td>3</td>\n",
       "      <td>2.25</td>\n",
       "      <td>2570</td>\n",
       "      <td>7242</td>\n",
       "      <td>2.0</td>\n",
       "      <td>0</td>\n",
       "      <td>0</td>\n",
       "      <td>...</td>\n",
       "      <td>7</td>\n",
       "      <td>2170</td>\n",
       "      <td>400</td>\n",
       "      <td>1951</td>\n",
       "      <td>1991</td>\n",
       "      <td>98125</td>\n",
       "      <td>47.7210</td>\n",
       "      <td>-122.319</td>\n",
       "      <td>1690</td>\n",
       "      <td>7639</td>\n",
       "    </tr>\n",
       "    <tr>\n",
       "      <th>2</th>\n",
       "      <td>5631500400</td>\n",
       "      <td>20150225T000000</td>\n",
       "      <td>180000.0</td>\n",
       "      <td>2</td>\n",
       "      <td>1.00</td>\n",
       "      <td>770</td>\n",
       "      <td>10000</td>\n",
       "      <td>1.0</td>\n",
       "      <td>0</td>\n",
       "      <td>0</td>\n",
       "      <td>...</td>\n",
       "      <td>6</td>\n",
       "      <td>770</td>\n",
       "      <td>0</td>\n",
       "      <td>1933</td>\n",
       "      <td>0</td>\n",
       "      <td>98028</td>\n",
       "      <td>47.7379</td>\n",
       "      <td>-122.233</td>\n",
       "      <td>2720</td>\n",
       "      <td>8062</td>\n",
       "    </tr>\n",
       "    <tr>\n",
       "      <th>3</th>\n",
       "      <td>2487200875</td>\n",
       "      <td>20141209T000000</td>\n",
       "      <td>604000.0</td>\n",
       "      <td>4</td>\n",
       "      <td>3.00</td>\n",
       "      <td>1960</td>\n",
       "      <td>5000</td>\n",
       "      <td>1.0</td>\n",
       "      <td>0</td>\n",
       "      <td>0</td>\n",
       "      <td>...</td>\n",
       "      <td>7</td>\n",
       "      <td>1050</td>\n",
       "      <td>910</td>\n",
       "      <td>1965</td>\n",
       "      <td>0</td>\n",
       "      <td>98136</td>\n",
       "      <td>47.5208</td>\n",
       "      <td>-122.393</td>\n",
       "      <td>1360</td>\n",
       "      <td>5000</td>\n",
       "    </tr>\n",
       "    <tr>\n",
       "      <th>4</th>\n",
       "      <td>1954400510</td>\n",
       "      <td>20150218T000000</td>\n",
       "      <td>510000.0</td>\n",
       "      <td>3</td>\n",
       "      <td>2.00</td>\n",
       "      <td>1680</td>\n",
       "      <td>8080</td>\n",
       "      <td>1.0</td>\n",
       "      <td>0</td>\n",
       "      <td>0</td>\n",
       "      <td>...</td>\n",
       "      <td>8</td>\n",
       "      <td>1680</td>\n",
       "      <td>0</td>\n",
       "      <td>1987</td>\n",
       "      <td>0</td>\n",
       "      <td>98074</td>\n",
       "      <td>47.6168</td>\n",
       "      <td>-122.045</td>\n",
       "      <td>1800</td>\n",
       "      <td>7503</td>\n",
       "    </tr>\n",
       "  </tbody>\n",
       "</table>\n",
       "<p>5 rows × 21 columns</p>\n",
       "</div>"
      ],
      "text/plain": [
       "           id             date     price  bedrooms  bathrooms  sqft_living  \\\n",
       "0  7129300520  20141013T000000  221900.0         3       1.00         1180   \n",
       "1  6414100192  20141209T000000  538000.0         3       2.25         2570   \n",
       "2  5631500400  20150225T000000  180000.0         2       1.00          770   \n",
       "3  2487200875  20141209T000000  604000.0         4       3.00         1960   \n",
       "4  1954400510  20150218T000000  510000.0         3       2.00         1680   \n",
       "\n",
       "   sqft_lot  floors  waterfront  view  ...  grade  sqft_above  sqft_basement  \\\n",
       "0      5650     1.0           0     0  ...      7        1180              0   \n",
       "1      7242     2.0           0     0  ...      7        2170            400   \n",
       "2     10000     1.0           0     0  ...      6         770              0   \n",
       "3      5000     1.0           0     0  ...      7        1050            910   \n",
       "4      8080     1.0           0     0  ...      8        1680              0   \n",
       "\n",
       "   yr_built  yr_renovated  zipcode      lat     long  sqft_living15  \\\n",
       "0      1955             0    98178  47.5112 -122.257           1340   \n",
       "1      1951          1991    98125  47.7210 -122.319           1690   \n",
       "2      1933             0    98028  47.7379 -122.233           2720   \n",
       "3      1965             0    98136  47.5208 -122.393           1360   \n",
       "4      1987             0    98074  47.6168 -122.045           1800   \n",
       "\n",
       "   sqft_lot15  \n",
       "0        5650  \n",
       "1        7639  \n",
       "2        8062  \n",
       "3        5000  \n",
       "4        7503  \n",
       "\n",
       "[5 rows x 21 columns]"
      ]
     },
     "execution_count": 4,
     "metadata": {},
     "output_type": "execute_result"
    }
   ],
   "source": [
    "dataset.head()"
   ]
  },
  {
   "cell_type": "code",
   "execution_count": 5,
   "metadata": {},
   "outputs": [
    {
     "data": {
      "text/plain": [
       "array([[ 3.00000e+00,  1.00000e+00,  1.18000e+03, ..., -1.22257e+02,\n",
       "         1.34000e+03,  5.65000e+03],\n",
       "       [ 3.00000e+00,  2.25000e+00,  2.57000e+03, ..., -1.22319e+02,\n",
       "         1.69000e+03,  7.63900e+03],\n",
       "       [ 2.00000e+00,  1.00000e+00,  7.70000e+02, ..., -1.22233e+02,\n",
       "         2.72000e+03,  8.06200e+03],\n",
       "       ...,\n",
       "       [ 2.00000e+00,  7.50000e-01,  1.02000e+03, ..., -1.22299e+02,\n",
       "         1.02000e+03,  2.00700e+03],\n",
       "       [ 3.00000e+00,  2.50000e+00,  1.60000e+03, ..., -1.22069e+02,\n",
       "         1.41000e+03,  1.28700e+03],\n",
       "       [ 2.00000e+00,  7.50000e-01,  1.02000e+03, ..., -1.22299e+02,\n",
       "         1.02000e+03,  1.35700e+03]])"
      ]
     },
     "execution_count": 5,
     "metadata": {},
     "output_type": "execute_result"
    }
   ],
   "source": [
    "X=dataset.iloc[:, 3:].values\n",
    "X"
   ]
  },
  {
   "cell_type": "raw",
   "metadata": {},
   "source": [
    "Out of 21 variables, only 18 count (Id, Date, and Zipcode like values do not have any impact on your prediction). \n",
    "Price is the target of your prediction, and therefore you should get rid of that from your variables as well. \n",
    "After all that, you have 17 independent variables."
   ]
  },
  {
   "cell_type": "code",
   "execution_count": 6,
   "metadata": {},
   "outputs": [
    {
     "data": {
      "text/plain": [
       "array([[ 3.00000e+00,  1.00000e+00,  1.18000e+03, ..., -1.22257e+02,\n",
       "         1.34000e+03,  5.65000e+03],\n",
       "       [ 3.00000e+00,  2.25000e+00,  2.57000e+03, ..., -1.22319e+02,\n",
       "         1.69000e+03,  7.63900e+03],\n",
       "       [ 2.00000e+00,  1.00000e+00,  7.70000e+02, ..., -1.22233e+02,\n",
       "         2.72000e+03,  8.06200e+03],\n",
       "       ...,\n",
       "       [ 2.00000e+00,  7.50000e-01,  1.02000e+03, ..., -1.22299e+02,\n",
       "         1.02000e+03,  2.00700e+03],\n",
       "       [ 3.00000e+00,  2.50000e+00,  1.60000e+03, ..., -1.22069e+02,\n",
       "         1.41000e+03,  1.28700e+03],\n",
       "       [ 2.00000e+00,  7.50000e-01,  1.02000e+03, ..., -1.22299e+02,\n",
       "         1.02000e+03,  1.35700e+03]])"
      ]
     },
     "execution_count": 6,
     "metadata": {},
     "output_type": "execute_result"
    }
   ],
   "source": [
    "X = X[:, np.r_[0:13,14:18]]\n",
    "X"
   ]
  },
  {
   "cell_type": "code",
   "execution_count": 7,
   "metadata": {},
   "outputs": [
    {
     "data": {
      "text/plain": [
       "array([221900., 538000., 180000., ..., 402101., 400000., 325000.])"
      ]
     },
     "execution_count": 7,
     "metadata": {},
     "output_type": "execute_result"
    }
   ],
   "source": [
    "y = dataset.iloc[:, 2].values\n",
    "y"
   ]
  },
  {
   "cell_type": "code",
   "execution_count": 8,
   "metadata": {},
   "outputs": [],
   "source": [
    "# Getting separately the features and the targets\n",
    "X = dataset.iloc[:, 3:].values\n",
    "X = X[:, np.r_[0:13,14:18]]\n",
    "y = dataset.iloc[:, 2].values"
   ]
  },
  {
   "cell_type": "code",
   "execution_count": 9,
   "metadata": {},
   "outputs": [],
   "source": [
    "# Splitting the dataset into a training set and a test set\n",
    "X_train, X_test, y_train, y_test = train_test_split(X, y, test_size = 0.2, random_state = 0)\n"
   ]
  },
  {
   "cell_type": "markdown",
   "metadata": {},
   "source": [
    "### Min-Max Normalization"
   ]
  },
  {
   "cell_type": "code",
   "execution_count": 10,
   "metadata": {},
   "outputs": [],
   "source": [
    "# Scaling the features\n",
    "xscaler = MinMaxScaler(feature_range = (0,1))\n",
    "X_train = xscaler.fit_transform(X_train)\n",
    "X_test = xscaler.transform(X_test)"
   ]
  },
  {
   "attachments": {
    "image.png": {
     "image/png": "[encoded data removed]"
    }
   },
   "cell_type": "markdown",
   "metadata": {},
   "source": [
    "![image.png](attachment:image.png)"
   ]
  },
  {
   "cell_type": "code",
   "execution_count": 11,
   "metadata": {},
   "outputs": [],
   "source": [
    "# Scaling the target\n",
    "yscaler = MinMaxScaler(feature_range = (0,1))\n",
    "y_train = yscaler.fit_transform(y_train.reshape(-1,1))\n",
    "y_test = yscaler.transform(y_test.reshape(-1,1))"
   ]
  },
  {
   "cell_type": "code",
   "execution_count": 12,
   "metadata": {},
   "outputs": [],
   "source": [
    "# Building the Artificial Neural Network\n",
    "model = Sequential()\n",
    "model.add(Dense(units = 64, kernel_initializer = 'uniform', activation = 'relu', input_dim = 17))\n",
    "model.add(Dense(units = 16, kernel_initializer = 'uniform', activation = 'relu'))\n",
    "model.add(Dense(units = 1, kernel_initializer = 'uniform', activation = 'relu'))\n",
    "model.compile(optimizer = Adam(lr = 0.001), loss = 'mse', metrics = ['mean_absolute_error'])"
   ]
  },
  {
   "cell_type": "code",
   "execution_count": 13,
   "metadata": {
    "scrolled": false
   },
   "outputs": [
    {
     "name": "stdout",
     "output_type": "stream",
     "text": [
      "Epoch 1/100\n",
      "WARNING:tensorflow:AutoGraph could not transform <function Model.make_train_function.<locals>.train_function at 0x00000169534415E0> and will run it as-is.\n",
      "Please report this to the TensorFlow team. When filing the bug, set the verbosity to 10 (on Linux, `export AUTOGRAPH_VERBOSITY=10`) and attach the full output.\n",
      "Cause: module 'gast' has no attribute 'Constant'\n",
      "To silence this warning, decorate the function with @tf.autograph.experimental.do_not_convert\n",
      "WARNING: AutoGraph could not transform <function Model.make_train_function.<locals>.train_function at 0x00000169534415E0> and will run it as-is.\n",
      "Please report this to the TensorFlow team. When filing the bug, set the verbosity to 10 (on Linux, `export AUTOGRAPH_VERBOSITY=10`) and attach the full output.\n",
      "Cause: module 'gast' has no attribute 'Constant'\n",
      "To silence this warning, decorate the function with @tf.autograph.experimental.do_not_convert\n",
      "502/541 [==========================>...] - ETA: 0s - loss: 0.0011 - mean_absolute_error: 0.0194WARNING:tensorflow:AutoGraph could not transform <function Model.make_test_function.<locals>.test_function at 0x000001695C5CF160> and will run it as-is.\n",
      "Please report this to the TensorFlow team. When filing the bug, set the verbosity to 10 (on Linux, `export AUTOGRAPH_VERBOSITY=10`) and attach the full output.\n",
      "Cause: module 'gast' has no attribute 'Constant'\n",
      "To silence this warning, decorate the function with @tf.autograph.experimental.do_not_convert\n",
      "WARNING: AutoGraph could not transform <function Model.make_test_function.<locals>.test_function at 0x000001695C5CF160> and will run it as-is.\n",
      "Please report this to the TensorFlow team. When filing the bug, set the verbosity to 10 (on Linux, `export AUTOGRAPH_VERBOSITY=10`) and attach the full output.\n",
      "Cause: module 'gast' has no attribute 'Constant'\n",
      "To silence this warning, decorate the function with @tf.autograph.experimental.do_not_convert\n",
      "541/541 [==============================] - 1s 1ms/step - loss: 0.0010 - mean_absolute_error: 0.0191 - val_loss: 5.6582e-04 - val_mean_absolute_error: 0.0150\n",
      "Epoch 2/100\n",
      "541/541 [==============================] - 0s 805us/step - loss: 6.3921e-04 - mean_absolute_error: 0.0156 - val_loss: 5.4494e-04 - val_mean_absolute_error: 0.0155\n",
      "Epoch 3/100\n",
      "541/541 [==============================] - 0s 783us/step - loss: 5.5887e-04 - mean_absolute_error: 0.0145 - val_loss: 4.4577e-04 - val_mean_absolute_error: 0.0128\n",
      "Epoch 4/100\n",
      "541/541 [==============================] - 0s 783us/step - loss: 5.1308e-04 - mean_absolute_error: 0.0138 - val_loss: 4.3149e-04 - val_mean_absolute_error: 0.0127\n",
      "Epoch 5/100\n",
      "541/541 [==============================] - 0s 840us/step - loss: 4.8510e-04 - mean_absolute_error: 0.0135 - val_loss: 3.8172e-04 - val_mean_absolute_error: 0.0118\n",
      "Epoch 6/100\n",
      "541/541 [==============================] - 0s 823us/step - loss: 4.5384e-04 - mean_absolute_error: 0.0130 - val_loss: 3.7603e-04 - val_mean_absolute_error: 0.0119\n",
      "Epoch 7/100\n",
      "541/541 [==============================] - 0s 812us/step - loss: 4.2837e-04 - mean_absolute_error: 0.0127 - val_loss: 3.4826e-04 - val_mean_absolute_error: 0.0113\n",
      "Epoch 8/100\n",
      "541/541 [==============================] - 0s 843us/step - loss: 4.1459e-04 - mean_absolute_error: 0.0125 - val_loss: 4.0294e-04 - val_mean_absolute_error: 0.0121\n",
      "Epoch 9/100\n",
      "541/541 [==============================] - 0s 782us/step - loss: 4.0581e-04 - mean_absolute_error: 0.0124 - val_loss: 3.5618e-04 - val_mean_absolute_error: 0.0121\n",
      "Epoch 10/100\n",
      "541/541 [==============================] - 0s 815us/step - loss: 3.9046e-04 - mean_absolute_error: 0.0121 - val_loss: 3.3539e-04 - val_mean_absolute_error: 0.0115\n",
      "Epoch 11/100\n",
      "541/541 [==============================] - 0s 811us/step - loss: 3.7809e-04 - mean_absolute_error: 0.0119 - val_loss: 3.2157e-04 - val_mean_absolute_error: 0.0106\n",
      "Epoch 12/100\n",
      "541/541 [==============================] - 0s 819us/step - loss: 3.7016e-04 - mean_absolute_error: 0.0118 - val_loss: 4.8690e-04 - val_mean_absolute_error: 0.0168\n",
      "Epoch 13/100\n",
      "541/541 [==============================] - 0s 784us/step - loss: 3.6681e-04 - mean_absolute_error: 0.0118 - val_loss: 3.5258e-04 - val_mean_absolute_error: 0.0117\n",
      "Epoch 14/100\n",
      "541/541 [==============================] - 0s 811us/step - loss: 3.5384e-04 - mean_absolute_error: 0.0114 - val_loss: 3.2373e-04 - val_mean_absolute_error: 0.0109\n",
      "Epoch 15/100\n",
      "541/541 [==============================] - 0s 841us/step - loss: 3.4391e-04 - mean_absolute_error: 0.0115 - val_loss: 3.1181e-04 - val_mean_absolute_error: 0.0106\n",
      "Epoch 16/100\n",
      "541/541 [==============================] - 0s 811us/step - loss: 3.5170e-04 - mean_absolute_error: 0.0114 - val_loss: 2.9634e-04 - val_mean_absolute_error: 0.0103\n",
      "Epoch 17/100\n",
      "541/541 [==============================] - 0s 813us/step - loss: 3.4259e-04 - mean_absolute_error: 0.0114 - val_loss: 3.2166e-04 - val_mean_absolute_error: 0.0102\n",
      "Epoch 18/100\n",
      "541/541 [==============================] - 0s 841us/step - loss: 3.4102e-04 - mean_absolute_error: 0.0113 - val_loss: 2.8950e-04 - val_mean_absolute_error: 0.0101\n",
      "Epoch 19/100\n",
      "541/541 [==============================] - 0s 811us/step - loss: 3.3385e-04 - mean_absolute_error: 0.0112 - val_loss: 2.8932e-04 - val_mean_absolute_error: 0.0102\n",
      "Epoch 20/100\n",
      "541/541 [==============================] - 0s 840us/step - loss: 3.2027e-04 - mean_absolute_error: 0.0110 - val_loss: 2.8869e-04 - val_mean_absolute_error: 0.0103\n",
      "Epoch 21/100\n",
      "541/541 [==============================] - 0s 782us/step - loss: 3.2566e-04 - mean_absolute_error: 0.0111 - val_loss: 3.1839e-04 - val_mean_absolute_error: 0.0114\n",
      "Epoch 22/100\n",
      "541/541 [==============================] - 0s 785us/step - loss: 3.3286e-04 - mean_absolute_error: 0.0113 - val_loss: 3.0768e-04 - val_mean_absolute_error: 0.0112\n",
      "Epoch 23/100\n",
      "541/541 [==============================] - 0s 798us/step - loss: 3.0940e-04 - mean_absolute_error: 0.0108 - val_loss: 2.9252e-04 - val_mean_absolute_error: 0.0104\n",
      "Epoch 24/100\n",
      "541/541 [==============================] - 0s 813us/step - loss: 3.1329e-04 - mean_absolute_error: 0.0109 - val_loss: 3.1304e-04 - val_mean_absolute_error: 0.0115\n",
      "Epoch 25/100\n",
      "541/541 [==============================] - 0s 813us/step - loss: 3.0339e-04 - mean_absolute_error: 0.0108 - val_loss: 2.8191e-04 - val_mean_absolute_error: 0.0103\n",
      "Epoch 26/100\n",
      "541/541 [==============================] - 0s 810us/step - loss: 2.9532e-04 - mean_absolute_error: 0.0106 - val_loss: 3.8506e-04 - val_mean_absolute_error: 0.0120\n",
      "Epoch 27/100\n",
      "541/541 [==============================] - 0s 782us/step - loss: 2.9817e-04 - mean_absolute_error: 0.0108 - val_loss: 3.5592e-04 - val_mean_absolute_error: 0.0120\n",
      "Epoch 28/100\n",
      "541/541 [==============================] - 0s 841us/step - loss: 3.1033e-04 - mean_absolute_error: 0.0109 - val_loss: 2.6866e-04 - val_mean_absolute_error: 0.0098\n",
      "Epoch 29/100\n",
      "541/541 [==============================] - 0s 840us/step - loss: 3.0507e-04 - mean_absolute_error: 0.0108 - val_loss: 2.6449e-04 - val_mean_absolute_error: 0.0099\n",
      "Epoch 30/100\n",
      "541/541 [==============================] - 0s 783us/step - loss: 2.9369e-04 - mean_absolute_error: 0.0107 - val_loss: 2.8468e-04 - val_mean_absolute_error: 0.0102\n",
      "Epoch 31/100\n",
      "541/541 [==============================] - 0s 839us/step - loss: 2.8720e-04 - mean_absolute_error: 0.0104 - val_loss: 2.8849e-04 - val_mean_absolute_error: 0.0114\n",
      "Epoch 32/100\n",
      "541/541 [==============================] - 0s 815us/step - loss: 2.8589e-04 - mean_absolute_error: 0.0105 - val_loss: 2.7171e-04 - val_mean_absolute_error: 0.0104\n",
      "Epoch 33/100\n",
      "541/541 [==============================] - 0s 825us/step - loss: 2.8614e-04 - mean_absolute_error: 0.0105 - val_loss: 2.6478e-04 - val_mean_absolute_error: 0.0101\n",
      "Epoch 34/100\n",
      "541/541 [==============================] - 0s 841us/step - loss: 2.8283e-04 - mean_absolute_error: 0.0106 - val_loss: 3.0374e-04 - val_mean_absolute_error: 0.0110\n",
      "Epoch 35/100\n",
      "541/541 [==============================] - 0s 782us/step - loss: 2.8762e-04 - mean_absolute_error: 0.0106 - val_loss: 3.7812e-04 - val_mean_absolute_error: 0.0136\n",
      "Epoch 36/100\n",
      "541/541 [==============================] - 0s 783us/step - loss: 2.8143e-04 - mean_absolute_error: 0.0105 - val_loss: 3.0595e-04 - val_mean_absolute_error: 0.0107\n"
     ]
    },
    {
     "name": "stdout",
     "output_type": "stream",
     "text": [
      "Epoch 37/100\n",
      "541/541 [==============================] - 0s 803us/step - loss: 2.7365e-04 - mean_absolute_error: 0.0103 - val_loss: 2.8920e-04 - val_mean_absolute_error: 0.0096\n",
      "Epoch 38/100\n",
      "541/541 [==============================] - 0s 841us/step - loss: 2.8171e-04 - mean_absolute_error: 0.0104 - val_loss: 2.5393e-04 - val_mean_absolute_error: 0.0095\n",
      "Epoch 39/100\n",
      "541/541 [==============================] - 0s 783us/step - loss: 2.8985e-04 - mean_absolute_error: 0.0107 - val_loss: 2.7049e-04 - val_mean_absolute_error: 0.0106\n",
      "Epoch 40/100\n",
      "541/541 [==============================] - 1s 944us/step - loss: 2.6429e-04 - mean_absolute_error: 0.0102 - val_loss: 2.6591e-04 - val_mean_absolute_error: 0.0096\n",
      "Epoch 41/100\n",
      "541/541 [==============================] - 0s 824us/step - loss: 2.7473e-04 - mean_absolute_error: 0.0104 - val_loss: 2.6873e-04 - val_mean_absolute_error: 0.0101\n",
      "Epoch 42/100\n",
      "541/541 [==============================] - 0s 794us/step - loss: 2.7190e-04 - mean_absolute_error: 0.0104 - val_loss: 2.4413e-04 - val_mean_absolute_error: 0.0094\n",
      "Epoch 43/100\n",
      "541/541 [==============================] - 0s 828us/step - loss: 2.6573e-04 - mean_absolute_error: 0.0102 - val_loss: 2.6993e-04 - val_mean_absolute_error: 0.0097\n",
      "Epoch 44/100\n",
      "541/541 [==============================] - 0s 783us/step - loss: 2.7242e-04 - mean_absolute_error: 0.0103 - val_loss: 2.8946e-04 - val_mean_absolute_error: 0.0097\n",
      "Epoch 45/100\n",
      "541/541 [==============================] - 0s 794us/step - loss: 2.6373e-04 - mean_absolute_error: 0.0101 - val_loss: 2.4825e-04 - val_mean_absolute_error: 0.0096\n",
      "Epoch 46/100\n",
      "541/541 [==============================] - 0s 815us/step - loss: 2.6870e-04 - mean_absolute_error: 0.0102 - val_loss: 2.5035e-04 - val_mean_absolute_error: 0.0095\n",
      "Epoch 47/100\n",
      "541/541 [==============================] - 0s 808us/step - loss: 2.5850e-04 - mean_absolute_error: 0.0101 - val_loss: 2.7118e-04 - val_mean_absolute_error: 0.0106\n",
      "Epoch 48/100\n",
      "541/541 [==============================] - 0s 811us/step - loss: 2.6606e-04 - mean_absolute_error: 0.0102 - val_loss: 2.8437e-04 - val_mean_absolute_error: 0.0109\n",
      "Epoch 49/100\n",
      "541/541 [==============================] - 0s 787us/step - loss: 2.6454e-04 - mean_absolute_error: 0.0101 - val_loss: 2.7077e-04 - val_mean_absolute_error: 0.0098\n",
      "Epoch 50/100\n",
      "541/541 [==============================] - 0s 781us/step - loss: 2.5554e-04 - mean_absolute_error: 0.0100 - val_loss: 2.3514e-04 - val_mean_absolute_error: 0.0093\n",
      "Epoch 51/100\n",
      "541/541 [==============================] - 0s 811us/step - loss: 2.6125e-04 - mean_absolute_error: 0.0101 - val_loss: 2.5682e-04 - val_mean_absolute_error: 0.0101\n",
      "Epoch 52/100\n",
      "541/541 [==============================] - 0s 783us/step - loss: 2.5609e-04 - mean_absolute_error: 0.0100 - val_loss: 2.4991e-04 - val_mean_absolute_error: 0.0095\n",
      "Epoch 53/100\n",
      "541/541 [==============================] - 0s 812us/step - loss: 2.5622e-04 - mean_absolute_error: 0.0100 - val_loss: 2.3972e-04 - val_mean_absolute_error: 0.0094\n",
      "Epoch 54/100\n",
      "541/541 [==============================] - 0s 811us/step - loss: 2.5103e-04 - mean_absolute_error: 0.0099 - val_loss: 2.3884e-04 - val_mean_absolute_error: 0.0093\n",
      "Epoch 55/100\n",
      "541/541 [==============================] - 0s 840us/step - loss: 2.5394e-04 - mean_absolute_error: 0.0101 - val_loss: 2.7700e-04 - val_mean_absolute_error: 0.0095\n",
      "Epoch 56/100\n",
      "541/541 [==============================] - 0s 785us/step - loss: 2.6416e-04 - mean_absolute_error: 0.0103 - val_loss: 3.0707e-04 - val_mean_absolute_error: 0.0108\n",
      "Epoch 57/100\n",
      "541/541 [==============================] - 0s 783us/step - loss: 2.5250e-04 - mean_absolute_error: 0.0100 - val_loss: 2.3951e-04 - val_mean_absolute_error: 0.0091\n",
      "Epoch 58/100\n",
      "541/541 [==============================] - 0s 815us/step - loss: 2.6145e-04 - mean_absolute_error: 0.0101 - val_loss: 2.5659e-04 - val_mean_absolute_error: 0.0095\n",
      "Epoch 59/100\n",
      "541/541 [==============================] - 0s 821us/step - loss: 2.5667e-04 - mean_absolute_error: 0.0100 - val_loss: 2.4271e-04 - val_mean_absolute_error: 0.0094\n",
      "Epoch 60/100\n",
      "541/541 [==============================] - 0s 845us/step - loss: 2.4370e-04 - mean_absolute_error: 0.0098 - val_loss: 2.4863e-04 - val_mean_absolute_error: 0.0093\n",
      "Epoch 61/100\n",
      "541/541 [==============================] - 0s 807us/step - loss: 2.5078e-04 - mean_absolute_error: 0.0100 - val_loss: 2.4941e-04 - val_mean_absolute_error: 0.0095\n",
      "Epoch 62/100\n",
      "541/541 [==============================] - 0s 783us/step - loss: 2.4899e-04 - mean_absolute_error: 0.0100 - val_loss: 2.7327e-04 - val_mean_absolute_error: 0.0108\n",
      "Epoch 63/100\n",
      "541/541 [==============================] - 0s 812us/step - loss: 2.5225e-04 - mean_absolute_error: 0.0100 - val_loss: 2.3359e-04 - val_mean_absolute_error: 0.0091\n",
      "Epoch 64/100\n",
      "541/541 [==============================] - 0s 782us/step - loss: 2.3993e-04 - mean_absolute_error: 0.0098 - val_loss: 2.5338e-04 - val_mean_absolute_error: 0.0093\n",
      "Epoch 65/100\n",
      "541/541 [==============================] - 0s 811us/step - loss: 2.4546e-04 - mean_absolute_error: 0.0099 - val_loss: 2.6138e-04 - val_mean_absolute_error: 0.0100\n",
      "Epoch 66/100\n",
      "541/541 [==============================] - 0s 792us/step - loss: 2.5178e-04 - mean_absolute_error: 0.0099 - val_loss: 2.2969e-04 - val_mean_absolute_error: 0.0091\n",
      "Epoch 67/100\n",
      "541/541 [==============================] - 0s 803us/step - loss: 2.5913e-04 - mean_absolute_error: 0.0101 - val_loss: 2.5432e-04 - val_mean_absolute_error: 0.0098\n",
      "Epoch 68/100\n",
      "541/541 [==============================] - 0s 783us/step - loss: 2.4284e-04 - mean_absolute_error: 0.0098 - val_loss: 2.5180e-04 - val_mean_absolute_error: 0.0098\n",
      "Epoch 69/100\n",
      "541/541 [==============================] - 0s 754us/step - loss: 2.4076e-04 - mean_absolute_error: 0.0097 - val_loss: 2.3820e-04 - val_mean_absolute_error: 0.0093\n",
      "Epoch 70/100\n",
      "541/541 [==============================] - 0s 784us/step - loss: 2.3922e-04 - mean_absolute_error: 0.0098 - val_loss: 2.5738e-04 - val_mean_absolute_error: 0.0096\n",
      "Epoch 71/100\n",
      "541/541 [==============================] - 0s 812us/step - loss: 2.5068e-04 - mean_absolute_error: 0.0100 - val_loss: 2.3043e-04 - val_mean_absolute_error: 0.0093\n",
      "Epoch 72/100\n",
      "541/541 [==============================] - 0s 811us/step - loss: 2.4419e-04 - mean_absolute_error: 0.0099 - val_loss: 2.5055e-04 - val_mean_absolute_error: 0.0098\n",
      "Epoch 73/100\n",
      "541/541 [==============================] - 0s 812us/step - loss: 2.3123e-04 - mean_absolute_error: 0.0096 - val_loss: 2.7629e-04 - val_mean_absolute_error: 0.0112\n",
      "Epoch 74/100\n",
      "541/541 [==============================] - 0s 827us/step - loss: 2.4376e-04 - mean_absolute_error: 0.0098 - val_loss: 2.4273e-04 - val_mean_absolute_error: 0.0094\n",
      "Epoch 75/100\n",
      "541/541 [==============================] - 0s 783us/step - loss: 2.3505e-04 - mean_absolute_error: 0.0097 - val_loss: 2.5154e-04 - val_mean_absolute_error: 0.0093\n",
      "Epoch 76/100\n",
      "541/541 [==============================] - 0s 782us/step - loss: 2.3595e-04 - mean_absolute_error: 0.0097 - val_loss: 2.4857e-04 - val_mean_absolute_error: 0.0096\n",
      "Epoch 77/100\n",
      "541/541 [==============================] - 0s 783us/step - loss: 2.3834e-04 - mean_absolute_error: 0.0098 - val_loss: 2.5022e-04 - val_mean_absolute_error: 0.0096\n",
      "Epoch 78/100\n",
      "541/541 [==============================] - 0s 811us/step - loss: 2.3602e-04 - mean_absolute_error: 0.0098 - val_loss: 2.3827e-04 - val_mean_absolute_error: 0.0092\n",
      "Epoch 79/100\n",
      "541/541 [==============================] - 0s 812us/step - loss: 2.3753e-04 - mean_absolute_error: 0.0098 - val_loss: 2.5944e-04 - val_mean_absolute_error: 0.0095\n",
      "Epoch 80/100\n",
      "541/541 [==============================] - 0s 811us/step - loss: 2.3350e-04 - mean_absolute_error: 0.0096 - val_loss: 2.3422e-04 - val_mean_absolute_error: 0.0093\n",
      "Epoch 81/100\n",
      "541/541 [==============================] - 0s 813us/step - loss: 2.3613e-04 - mean_absolute_error: 0.0097 - val_loss: 2.5526e-04 - val_mean_absolute_error: 0.0097\n",
      "Epoch 82/100\n",
      "541/541 [==============================] - 0s 810us/step - loss: 2.4272e-04 - mean_absolute_error: 0.0098 - val_loss: 2.6160e-04 - val_mean_absolute_error: 0.0096\n",
      "Epoch 83/100\n",
      "541/541 [==============================] - 0s 783us/step - loss: 2.3671e-04 - mean_absolute_error: 0.0097 - val_loss: 2.3825e-04 - val_mean_absolute_error: 0.0094\n",
      "Epoch 84/100\n",
      "541/541 [==============================] - 0s 782us/step - loss: 2.3522e-04 - mean_absolute_error: 0.0097 - val_loss: 2.5489e-04 - val_mean_absolute_error: 0.0096\n",
      "Epoch 85/100\n",
      "541/541 [==============================] - 0s 783us/step - loss: 2.3713e-04 - mean_absolute_error: 0.0098 - val_loss: 2.3566e-04 - val_mean_absolute_error: 0.0092\n",
      "Epoch 86/100\n",
      "541/541 [==============================] - 0s 783us/step - loss: 2.2849e-04 - mean_absolute_error: 0.0096 - val_loss: 2.3720e-04 - val_mean_absolute_error: 0.0091\n",
      "Epoch 87/100\n",
      "541/541 [==============================] - 0s 811us/step - loss: 2.4745e-04 - mean_absolute_error: 0.0099 - val_loss: 2.5084e-04 - val_mean_absolute_error: 0.0097\n",
      "Epoch 88/100\n",
      "541/541 [==============================] - 0s 783us/step - loss: 2.2984e-04 - mean_absolute_error: 0.0096 - val_loss: 2.3388e-04 - val_mean_absolute_error: 0.0092\n",
      "Epoch 89/100\n",
      "541/541 [==============================] - 0s 783us/step - loss: 2.3357e-04 - mean_absolute_error: 0.0096 - val_loss: 2.6453e-04 - val_mean_absolute_error: 0.0102\n",
      "Epoch 90/100\n",
      "541/541 [==============================] - 0s 813us/step - loss: 2.2890e-04 - mean_absolute_error: 0.0097 - val_loss: 2.5469e-04 - val_mean_absolute_error: 0.0097\n",
      "Epoch 91/100\n",
      "541/541 [==============================] - 0s 811us/step - loss: 2.3556e-04 - mean_absolute_error: 0.0097 - val_loss: 2.4392e-04 - val_mean_absolute_error: 0.0092\n",
      "Epoch 92/100\n",
      "541/541 [==============================] - 0s 797us/step - loss: 2.2948e-04 - mean_absolute_error: 0.0096 - val_loss: 2.4748e-04 - val_mean_absolute_error: 0.0094\n",
      "Epoch 93/100\n",
      "541/541 [==============================] - 0s 784us/step - loss: 2.3152e-04 - mean_absolute_error: 0.0097 - val_loss: 3.2459e-04 - val_mean_absolute_error: 0.0114\n",
      "Epoch 94/100\n",
      "541/541 [==============================] - 0s 756us/step - loss: 2.2909e-04 - mean_absolute_error: 0.0097 - val_loss: 2.7240e-04 - val_mean_absolute_error: 0.0094\n",
      "Epoch 95/100\n",
      "541/541 [==============================] - 0s 783us/step - loss: 2.2943e-04 - mean_absolute_error: 0.0096 - val_loss: 2.5127e-04 - val_mean_absolute_error: 0.0098\n",
      "Epoch 96/100\n",
      "541/541 [==============================] - 0s 782us/step - loss: 2.2970e-04 - mean_absolute_error: 0.0096 - val_loss: 2.7253e-04 - val_mean_absolute_error: 0.0101\n",
      "Epoch 97/100\n",
      "541/541 [==============================] - 0s 815us/step - loss: 2.3565e-04 - mean_absolute_error: 0.0098 - val_loss: 3.1920e-04 - val_mean_absolute_error: 0.0111\n",
      "Epoch 98/100\n",
      "541/541 [==============================] - 0s 809us/step - loss: 2.3081e-04 - mean_absolute_error: 0.0097 - val_loss: 2.5144e-04 - val_mean_absolute_error: 0.0092\n",
      "Epoch 99/100\n",
      "541/541 [==============================] - 0s 840us/step - loss: 2.2286e-04 - mean_absolute_error: 0.0094 - val_loss: 2.4468e-04 - val_mean_absolute_error: 0.0096\n",
      "Epoch 100/100\n",
      "541/541 [==============================] - 0s 794us/step - loss: 2.2849e-04 - mean_absolute_error: 0.0096 - val_loss: 2.3968e-04 - val_mean_absolute_error: 0.0092\n"
     ]
    },
    {
     "data": {
      "text/plain": [
       "<tensorflow.python.keras.callbacks.History at 0x1695347ea30>"
      ]
     },
     "execution_count": 13,
     "metadata": {},
     "output_type": "execute_result"
    }
   ],
   "source": [
    "# Training the Artificial Neural Network\n",
    "model.fit(X_train, y_train, batch_size = 32, epochs = 100, validation_data = (X_test, y_test))"
   ]
  },
  {
   "cell_type": "code",
   "execution_count": 14,
   "metadata": {},
   "outputs": [
    {
     "name": "stdout",
     "output_type": "stream",
     "text": [
      "WARNING:tensorflow:AutoGraph could not transform <function Model.make_predict_function.<locals>.predict_function at 0x000001695C6AC040> and will run it as-is.\n",
      "Please report this to the TensorFlow team. When filing the bug, set the verbosity to 10 (on Linux, `export AUTOGRAPH_VERBOSITY=10`) and attach the full output.\n",
      "Cause: module 'gast' has no attribute 'Constant'\n",
      "To silence this warning, decorate the function with @tf.autograph.experimental.do_not_convert\n",
      "WARNING: AutoGraph could not transform <function Model.make_predict_function.<locals>.predict_function at 0x000001695C6AC040> and will run it as-is.\n",
      "Please report this to the TensorFlow team. When filing the bug, set the verbosity to 10 (on Linux, `export AUTOGRAPH_VERBOSITY=10`) and attach the full output.\n",
      "Cause: module 'gast' has no attribute 'Constant'\n",
      "To silence this warning, decorate the function with @tf.autograph.experimental.do_not_convert\n"
     ]
    }
   ],
   "source": [
    "# Making predictions on the test set while reversing the scaling\n",
    "y_test = yscaler.inverse_transform(y_test)\n",
    "prediction = yscaler.inverse_transform(model.predict(X_test))"
   ]
  },
  {
   "cell_type": "code",
   "execution_count": 15,
   "metadata": {},
   "outputs": [
    {
     "data": {
      "text/plain": [
       "array([[ 297000.     ,  313288.3125 ],\n",
       "       [1578000.     , 1826742.75   ],\n",
       "       [ 562100.     ,  542008.6875 ],\n",
       "       ...,\n",
       "       [ 369950.     ,  398432.34375],\n",
       "       [ 300000.     ,  247826.15625],\n",
       "       [ 575950.     ,  476336.875  ]])"
      ]
     },
     "execution_count": 15,
     "metadata": {},
     "output_type": "execute_result"
    }
   ],
   "source": [
    "predicted_price=np.column_stack((y_test,prediction))\n",
    "predicted_price"
   ]
  },
  {
   "cell_type": "code",
   "execution_count": 16,
   "metadata": {},
   "outputs": [
    {
     "name": "stdout",
     "output_type": "stream",
     "text": [
      "0.13566966149613305\n"
     ]
    }
   ],
   "source": [
    "# Computing the error rate\n",
    "error = abs(prediction - y_test)/y_test\n",
    "print(np.mean(error))"
   ]
  },
  {
   "cell_type": "code",
   "execution_count": null,
   "metadata": {},
   "outputs": [],
   "source": []
  }
 ],
 "metadata": {
  "kernelspec": {
   "display_name": "Python 3 (ipykernel)",
   "language": "python",
   "name": "python3"
  },
  "language_info": {
   "codemirror_mode": {
    "name": "ipython",
    "version": 3
   },
   "file_extension": ".py",
   "mimetype": "text/x-python",
   "name": "python",
   "nbconvert_exporter": "python",
   "pygments_lexer": "ipython3",
   "version": "3.9.13"
  }
 },
 "nbformat": 4,
 "nbformat_minor": 4
}
