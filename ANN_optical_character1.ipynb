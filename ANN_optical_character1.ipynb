{
 "cells": [
  {
   "cell_type": "markdown",
   "metadata": {},
   "source": [
    "# Building an optical character recognition engine"
   ]
  },
  {
   "cell_type": "code",
   "execution_count": 1,
   "metadata": {},
   "outputs": [],
   "source": [
    "import numpy as np\n",
    "import neurolab as nl\n",
    "\n",
    "# Define the input file\n",
    "input_file = 'letter.data'\n",
    "\n",
    "# Define the number of datapoints to \n",
    "# be loaded from the input file\n",
    "num_datapoints = 50\n",
    "\n",
    "# String containing all the distinct characters\n",
    "orig_labels = 'onamgid'\n",
    "\n",
    "# Compute the number of distinct characters\n",
    "num_orig_labels = len(orig_labels)\n",
    "\n",
    "# Define the training and testing parameters\n",
    "num_train = int(0.9 * num_datapoints)\n",
    "num_test = num_datapoints - num_train"
   ]
  },
  {
   "cell_type": "code",
   "execution_count": 2,
   "metadata": {},
   "outputs": [],
   "source": [
    "# Define the dataset extraction parameters \n",
    "start = 6\n",
    "end = -1\n",
    "\n",
    "# Creating the dataset\n",
    "data = []\n",
    "labels = []\n",
    "with open(input_file, 'r') as f:\n",
    "    for line in f.readlines():\n",
    "        # Split the current line tabwise\n",
    "        list_vals = line.split('\\t')\n",
    "\n",
    "        # Check if the label is in our ground truth \n",
    "        # labels. If not, we should skip it.\n",
    "        if list_vals[1] not in orig_labels:\n",
    "            continue\n",
    "\n",
    "        # Extract the current label and append it \n",
    "        # to the main list\n",
    "        label = np.zeros((num_orig_labels, 1))\n",
    "        label[orig_labels.index(list_vals[1])] = 1\n",
    "        labels.append(label)\n",
    "\n",
    "        # Extract the character vector and append it to the main list\n",
    "        cur_char = np.array([float(x) for x in list_vals[start:end]])\n",
    "        data.append(cur_char)\n",
    "\n",
    "        # Exit the loop once the required dataset has been created \n",
    "        if len(data) >= num_datapoints:\n",
    "            break\n",
    "\n",
    "# Convert the data and labels to numpy arrays\n",
    "data = np.asfarray(data)\n",
    "labels = np.array(labels).reshape(num_datapoints, num_orig_labels)"
   ]
  },
  {
   "cell_type": "code",
   "execution_count": 3,
   "metadata": {},
   "outputs": [
    {
     "data": {
      "text/plain": [
       "(50, 128)"
      ]
     },
     "execution_count": 3,
     "metadata": {},
     "output_type": "execute_result"
    }
   ],
   "source": [
    "data.shape"
   ]
  },
  {
   "cell_type": "code",
   "execution_count": 4,
   "metadata": {},
   "outputs": [
    {
     "data": {
      "text/plain": [
       "(50, 7)"
      ]
     },
     "execution_count": 4,
     "metadata": {},
     "output_type": "execute_result"
    }
   ],
   "source": [
    "labels.shape"
   ]
  },
  {
   "cell_type": "code",
   "execution_count": 5,
   "metadata": {},
   "outputs": [
    {
     "data": {
      "text/plain": [
       "128"
      ]
     },
     "execution_count": 5,
     "metadata": {},
     "output_type": "execute_result"
    }
   ],
   "source": [
    "# Extract the number of dimensions\n",
    "num_dims = len(data[0])\n",
    "num_dims"
   ]
  },
  {
   "cell_type": "raw",
   "metadata": {},
   "source": [
    "Define a multilayer neural network with 2 hidden layers;\n",
    "First hidden layer consists of 128 neurons\n",
    "Second hidden layer consists of 16 neurons\n",
    "Output layer consists of num_orig_labels neuron (7)"
   ]
  },
  {
   "cell_type": "code",
   "execution_count": 6,
   "metadata": {},
   "outputs": [
    {
     "name": "stdout",
     "output_type": "stream",
     "text": [
      "Epoch: 500; Error: 3.0106654820359284;\n",
      "Epoch: 1000; Error: 2.2262325536399032;\n",
      "Epoch: 1500; Error: 1.9921171008221803;\n",
      "Epoch: 2000; Error: 0.6290572023278154;\n",
      "Epoch: 2500; Error: 0.074028031348779;\n",
      "Epoch: 3000; Error: 0.04607612243635758;\n",
      "Epoch: 3500; Error: 0.030781820555644022;\n",
      "Epoch: 4000; Error: 0.016536390883293735;\n",
      "Epoch: 4500; Error: 0.03269958593408773;\n",
      "Epoch: 5000; Error: 0.03375918814704432;\n",
      "Epoch: 5500; Error: 0.013802365023049856;\n",
      "The goal of learning is reached\n"
     ]
    }
   ],
   "source": [
    "# Create a feedforward neural network\n",
    "nn = nl.net.newff([[0, 1] for _ in range(len(data[0]))], \n",
    "        [128, 16, num_orig_labels])\n",
    "\n",
    "# Set the training algorithm to gradient descent\n",
    "nn.trainf = nl.train.train_gd\n",
    "\n",
    "# Train the network\n",
    "error_progress = nn.train(data[:num_train,:], labels[:num_train,:], \n",
    "        epochs=10000, show=500, goal=0.01)"
   ]
  },
  {
   "cell_type": "code",
   "execution_count": 7,
   "metadata": {},
   "outputs": [
    {
     "name": "stdout",
     "output_type": "stream",
     "text": [
      "\n",
      "Testing on unknown data:\n",
      "\n",
      "Original: o\n",
      "Predicted: o\n",
      "\n",
      "Original: m\n",
      "Predicted: n\n",
      "\n",
      "Original: m\n",
      "Predicted: a\n",
      "\n",
      "Original: a\n",
      "Predicted: a\n",
      "\n",
      "Original: n\n",
      "Predicted: n\n"
     ]
    }
   ],
   "source": [
    "# Predict the output for test inputs \n",
    "print('\\nTesting on unknown data:')\n",
    "predicted_test = nn.sim(data[num_train:, :])\n",
    "for i in range(num_test):\n",
    "    print('\\nOriginal:', orig_labels[np.argmax(labels[i])])\n",
    "    print('Predicted:', orig_labels[np.argmax(predicted_test[i])])"
   ]
  },
  {
   "cell_type": "code",
   "execution_count": null,
   "metadata": {},
   "outputs": [],
   "source": []
  },
  {
   "cell_type": "code",
   "execution_count": null,
   "metadata": {},
   "outputs": [],
   "source": []
  }
 ],
 "metadata": {
  "kernelspec": {
   "display_name": "Python 3 (ipykernel)",
   "language": "python",
   "name": "python3"
  },
  "language_info": {
   "codemirror_mode": {
    "name": "ipython",
    "version": 3
   },
   "file_extension": ".py",
   "mimetype": "text/x-python",
   "name": "python",
   "nbconvert_exporter": "python",
   "pygments_lexer": "ipython3",
   "version": "3.9.13"
  }
 },
 "nbformat": 4,
 "nbformat_minor": 4
}
